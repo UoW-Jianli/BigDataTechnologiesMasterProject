{
 "cells": [
  {
   "cell_type": "code",
   "execution_count": 1,
   "metadata": {},
   "outputs": [],
   "source": [
    "import numpy as np\n",
    "import pandas as pd\n",
    "import pickle\n",
    "import matplotlib.pyplot as plt\n",
    "import numpy as np\n",
    "import json\n",
    "import re \n",
    "import time\n",
    "from pandas.io.json import json_normalize\n",
    "from sklearn.utils import shuffle\n",
    "from sklearn.model_selection import train_test_split\n",
    "import sklearn\n",
    "from sklearn.ensemble import RandomForestClassifier\n",
    "from sklearn import metrics\n",
    "import seaborn as sns\n",
    "from sklearn import preprocessing\n",
    "from sklearn.linear_model import LogisticRegression\n",
    "from sklearn.metrics import classification_report, confusion_matrix\n",
    "from sklearn import svm\n",
    "from sklearn.naive_bayes import GaussianNB\n",
    "from sklearn.cluster import KMeans\n",
    "from sklearn import datasets\n",
    "from sklearn.neighbors import KNeighborsClassifier"
   ]
  },
  {
   "cell_type": "code",
   "execution_count": 2,
   "metadata": {},
   "outputs": [],
   "source": [
    "ob1_winner = pd.read_csv(\"C:/Users/Aaron/Desktop/loldfs/objective1_winner_data.csv\")\n",
    "ob1_loser = pd.read_csv(\"C:/Users/Aaron/Desktop/loldfs/objective1_loser_data.csv\")"
   ]
  },
  {
   "cell_type": "code",
   "execution_count": 3,
   "metadata": {},
   "outputs": [
    {
     "data": {
      "text/html": [
       "<div>\n",
       "<style scoped>\n",
       "    .dataframe tbody tr th:only-of-type {\n",
       "        vertical-align: middle;\n",
       "    }\n",
       "\n",
       "    .dataframe tbody tr th {\n",
       "        vertical-align: top;\n",
       "    }\n",
       "\n",
       "    .dataframe thead th {\n",
       "        text-align: right;\n",
       "    }\n",
       "</style>\n",
       "<table border=\"1\" class=\"dataframe\">\n",
       "  <thead>\n",
       "    <tr style=\"text-align: right;\">\n",
       "      <th></th>\n",
       "      <th>teamId</th>\n",
       "      <th>win</th>\n",
       "      <th>firstBlood</th>\n",
       "      <th>firstTower</th>\n",
       "      <th>firstInhibitor</th>\n",
       "      <th>firstBaron</th>\n",
       "      <th>firstDragon</th>\n",
       "      <th>firstRiftHerald</th>\n",
       "      <th>gameId</th>\n",
       "    </tr>\n",
       "  </thead>\n",
       "  <tbody>\n",
       "    <tr>\n",
       "      <th>0</th>\n",
       "      <td>200</td>\n",
       "      <td>Win</td>\n",
       "      <td>False</td>\n",
       "      <td>True</td>\n",
       "      <td>True</td>\n",
       "      <td>False</td>\n",
       "      <td>True</td>\n",
       "      <td>True</td>\n",
       "      <td>4.247263e+09</td>\n",
       "    </tr>\n",
       "    <tr>\n",
       "      <th>1</th>\n",
       "      <td>100</td>\n",
       "      <td>Win</td>\n",
       "      <td>False</td>\n",
       "      <td>False</td>\n",
       "      <td>False</td>\n",
       "      <td>False</td>\n",
       "      <td>True</td>\n",
       "      <td>True</td>\n",
       "      <td>4.247156e+09</td>\n",
       "    </tr>\n",
       "    <tr>\n",
       "      <th>2</th>\n",
       "      <td>200</td>\n",
       "      <td>Win</td>\n",
       "      <td>True</td>\n",
       "      <td>True</td>\n",
       "      <td>True</td>\n",
       "      <td>False</td>\n",
       "      <td>True</td>\n",
       "      <td>True</td>\n",
       "      <td>4.243963e+09</td>\n",
       "    </tr>\n",
       "    <tr>\n",
       "      <th>3</th>\n",
       "      <td>200</td>\n",
       "      <td>Win</td>\n",
       "      <td>True</td>\n",
       "      <td>True</td>\n",
       "      <td>False</td>\n",
       "      <td>False</td>\n",
       "      <td>False</td>\n",
       "      <td>True</td>\n",
       "      <td>4.241678e+09</td>\n",
       "    </tr>\n",
       "    <tr>\n",
       "      <th>4</th>\n",
       "      <td>100</td>\n",
       "      <td>Win</td>\n",
       "      <td>True</td>\n",
       "      <td>True</td>\n",
       "      <td>True</td>\n",
       "      <td>True</td>\n",
       "      <td>True</td>\n",
       "      <td>True</td>\n",
       "      <td>4.241539e+09</td>\n",
       "    </tr>\n",
       "  </tbody>\n",
       "</table>\n",
       "</div>"
      ],
      "text/plain": [
       "   teamId  win  firstBlood  firstTower  firstInhibitor  firstBaron  \\\n",
       "0     200  Win       False        True            True       False   \n",
       "1     100  Win       False       False           False       False   \n",
       "2     200  Win        True        True            True       False   \n",
       "3     200  Win        True        True           False       False   \n",
       "4     100  Win        True        True            True        True   \n",
       "\n",
       "   firstDragon  firstRiftHerald        gameId  \n",
       "0         True             True  4.247263e+09  \n",
       "1         True             True  4.247156e+09  \n",
       "2         True             True  4.243963e+09  \n",
       "3        False             True  4.241678e+09  \n",
       "4         True             True  4.241539e+09  "
      ]
     },
     "execution_count": 3,
     "metadata": {},
     "output_type": "execute_result"
    }
   ],
   "source": [
    "ob1_winner.head()"
   ]
  },
  {
   "cell_type": "code",
   "execution_count": 4,
   "metadata": {},
   "outputs": [
    {
     "data": {
      "text/html": [
       "<div>\n",
       "<style scoped>\n",
       "    .dataframe tbody tr th:only-of-type {\n",
       "        vertical-align: middle;\n",
       "    }\n",
       "\n",
       "    .dataframe tbody tr th {\n",
       "        vertical-align: top;\n",
       "    }\n",
       "\n",
       "    .dataframe thead th {\n",
       "        text-align: right;\n",
       "    }\n",
       "</style>\n",
       "<table border=\"1\" class=\"dataframe\">\n",
       "  <thead>\n",
       "    <tr style=\"text-align: right;\">\n",
       "      <th></th>\n",
       "      <th>teamId</th>\n",
       "      <th>win</th>\n",
       "      <th>firstBlood</th>\n",
       "      <th>firstTower</th>\n",
       "      <th>firstInhibitor</th>\n",
       "      <th>firstBaron</th>\n",
       "      <th>firstDragon</th>\n",
       "      <th>firstRiftHerald</th>\n",
       "      <th>gameId</th>\n",
       "    </tr>\n",
       "  </thead>\n",
       "  <tbody>\n",
       "    <tr>\n",
       "      <th>0</th>\n",
       "      <td>100</td>\n",
       "      <td>Fail</td>\n",
       "      <td>True</td>\n",
       "      <td>False</td>\n",
       "      <td>False</td>\n",
       "      <td>False</td>\n",
       "      <td>False</td>\n",
       "      <td>False</td>\n",
       "      <td>4.247263e+09</td>\n",
       "    </tr>\n",
       "    <tr>\n",
       "      <th>1</th>\n",
       "      <td>200</td>\n",
       "      <td>Fail</td>\n",
       "      <td>True</td>\n",
       "      <td>True</td>\n",
       "      <td>False</td>\n",
       "      <td>False</td>\n",
       "      <td>False</td>\n",
       "      <td>False</td>\n",
       "      <td>4.247156e+09</td>\n",
       "    </tr>\n",
       "    <tr>\n",
       "      <th>2</th>\n",
       "      <td>100</td>\n",
       "      <td>Fail</td>\n",
       "      <td>False</td>\n",
       "      <td>False</td>\n",
       "      <td>False</td>\n",
       "      <td>False</td>\n",
       "      <td>False</td>\n",
       "      <td>False</td>\n",
       "      <td>4.243963e+09</td>\n",
       "    </tr>\n",
       "    <tr>\n",
       "      <th>3</th>\n",
       "      <td>100</td>\n",
       "      <td>Fail</td>\n",
       "      <td>False</td>\n",
       "      <td>False</td>\n",
       "      <td>False</td>\n",
       "      <td>True</td>\n",
       "      <td>True</td>\n",
       "      <td>False</td>\n",
       "      <td>4.241678e+09</td>\n",
       "    </tr>\n",
       "    <tr>\n",
       "      <th>4</th>\n",
       "      <td>200</td>\n",
       "      <td>Fail</td>\n",
       "      <td>False</td>\n",
       "      <td>False</td>\n",
       "      <td>False</td>\n",
       "      <td>False</td>\n",
       "      <td>False</td>\n",
       "      <td>False</td>\n",
       "      <td>4.241539e+09</td>\n",
       "    </tr>\n",
       "  </tbody>\n",
       "</table>\n",
       "</div>"
      ],
      "text/plain": [
       "   teamId   win  firstBlood  firstTower  firstInhibitor  firstBaron  \\\n",
       "0     100  Fail        True       False           False       False   \n",
       "1     200  Fail        True        True           False       False   \n",
       "2     100  Fail       False       False           False       False   \n",
       "3     100  Fail       False       False           False        True   \n",
       "4     200  Fail       False       False           False       False   \n",
       "\n",
       "   firstDragon  firstRiftHerald        gameId  \n",
       "0        False            False  4.247263e+09  \n",
       "1        False            False  4.247156e+09  \n",
       "2        False            False  4.243963e+09  \n",
       "3         True            False  4.241678e+09  \n",
       "4        False            False  4.241539e+09  "
      ]
     },
     "execution_count": 4,
     "metadata": {},
     "output_type": "execute_result"
    }
   ],
   "source": [
    "ob1_loser.head()"
   ]
  },
  {
   "cell_type": "code",
   "execution_count": 5,
   "metadata": {},
   "outputs": [
    {
     "name": "stdout",
     "output_type": "stream",
     "text": [
      "<class 'pandas.core.frame.DataFrame'>\n",
      "RangeIndex: 108829 entries, 0 to 108828\n",
      "Data columns (total 9 columns):\n",
      " #   Column           Non-Null Count   Dtype  \n",
      "---  ------           --------------   -----  \n",
      " 0   teamId           108829 non-null  int64  \n",
      " 1   win              108829 non-null  object \n",
      " 2   firstBlood       108829 non-null  bool   \n",
      " 3   firstTower       108829 non-null  bool   \n",
      " 4   firstInhibitor   108829 non-null  bool   \n",
      " 5   firstBaron       108829 non-null  bool   \n",
      " 6   firstDragon      108829 non-null  bool   \n",
      " 7   firstRiftHerald  108829 non-null  bool   \n",
      " 8   gameId           108829 non-null  float64\n",
      "dtypes: bool(6), float64(1), int64(1), object(1)\n",
      "memory usage: 3.1+ MB\n",
      " \n",
      "<class 'pandas.core.frame.DataFrame'>\n",
      "RangeIndex: 108829 entries, 0 to 108828\n",
      "Data columns (total 9 columns):\n",
      " #   Column           Non-Null Count   Dtype  \n",
      "---  ------           --------------   -----  \n",
      " 0   teamId           108829 non-null  int64  \n",
      " 1   win              108817 non-null  object \n",
      " 2   firstBlood       108829 non-null  bool   \n",
      " 3   firstTower       108829 non-null  bool   \n",
      " 4   firstInhibitor   108829 non-null  bool   \n",
      " 5   firstBaron       108829 non-null  bool   \n",
      " 6   firstDragon      108829 non-null  bool   \n",
      " 7   firstRiftHerald  108829 non-null  bool   \n",
      " 8   gameId           108829 non-null  float64\n",
      "dtypes: bool(6), float64(1), int64(1), object(1)\n",
      "memory usage: 3.1+ MB\n"
     ]
    }
   ],
   "source": [
    "ob1_winner.info()\n",
    "print(\" \")\n",
    "ob1_loser.info()"
   ]
  },
  {
   "cell_type": "code",
   "execution_count": 6,
   "metadata": {},
   "outputs": [
    {
     "name": "stdout",
     "output_type": "stream",
     "text": [
      "<class 'pandas.core.frame.DataFrame'>\n",
      "RangeIndex: 108829 entries, 0 to 108828\n",
      "Data columns (total 9 columns):\n",
      " #   Column           Non-Null Count   Dtype  \n",
      "---  ------           --------------   -----  \n",
      " 0   teamId           108829 non-null  int64  \n",
      " 1   win              108817 non-null  object \n",
      " 2   firstBlood       108829 non-null  bool   \n",
      " 3   firstTower       108829 non-null  bool   \n",
      " 4   firstInhibitor   108829 non-null  bool   \n",
      " 5   firstBaron       108829 non-null  bool   \n",
      " 6   firstDragon      108829 non-null  bool   \n",
      " 7   firstRiftHerald  108829 non-null  bool   \n",
      " 8   gameId           108829 non-null  float64\n",
      "dtypes: bool(6), float64(1), int64(1), object(1)\n",
      "memory usage: 3.1+ MB\n"
     ]
    }
   ],
   "source": [
    "ob1_loser.info()"
   ]
  },
  {
   "cell_type": "code",
   "execution_count": 7,
   "metadata": {},
   "outputs": [
    {
     "name": "stdout",
     "output_type": "stream",
     "text": [
      "<class 'pandas.core.frame.DataFrame'>\n",
      "RangeIndex: 108829 entries, 0 to 108828\n",
      "Data columns (total 9 columns):\n",
      " #   Column           Non-Null Count   Dtype  \n",
      "---  ------           --------------   -----  \n",
      " 0   teamId           108829 non-null  int64  \n",
      " 1   win              108829 non-null  object \n",
      " 2   firstBlood       108829 non-null  bool   \n",
      " 3   firstTower       108829 non-null  bool   \n",
      " 4   firstInhibitor   108829 non-null  bool   \n",
      " 5   firstBaron       108829 non-null  bool   \n",
      " 6   firstDragon      108829 non-null  bool   \n",
      " 7   firstRiftHerald  108829 non-null  bool   \n",
      " 8   gameId           108829 non-null  float64\n",
      "dtypes: bool(6), float64(1), int64(1), object(1)\n",
      "memory usage: 3.1+ MB\n"
     ]
    }
   ],
   "source": [
    "#fill the NaN\n",
    "ob1_loser[\"win\"].fillna(\"Fail\", inplace = True)\n",
    "ob1_loser.info()"
   ]
  },
  {
   "cell_type": "code",
   "execution_count": 8,
   "metadata": {},
   "outputs": [],
   "source": [
    "#taking only data with teamId 100 from winners\n",
    "dfw100 = ob1_winner[ob1_winner[\"teamId\"] == 100]\n",
    "\n",
    "#taking only data with teamId 200 from winners\n",
    "dfw200 = ob1_winner[ob1_winner[\"teamId\"] == 200]\n",
    "\n",
    "#taking only data with teamId 100 from losers\n",
    "dfl100 = ob1_loser[ob1_loser[\"teamId\"] == 100]\n",
    "\n",
    "#taking only data with teamId 200 from losers\n",
    "dfl200 = ob1_loser[ob1_loser[\"teamId\"] == 200]"
   ]
  },
  {
   "cell_type": "code",
   "execution_count": 9,
   "metadata": {},
   "outputs": [],
   "source": [
    "#merging team 100\n",
    "frame100 = [dfw100, dfl100]\n",
    "team100 = pd.concat(frame100)\n",
    "\n",
    "#merging team 200\n",
    "frame200 = [dfw200, dfl200]\n",
    "team200 = pd.concat(frame200)"
   ]
  },
  {
   "cell_type": "code",
   "execution_count": 10,
   "metadata": {},
   "outputs": [],
   "source": [
    "#shuffling\n",
    "team100 = shuffle(team100)\n",
    "team200 = shuffle(team200)\n"
   ]
  },
  {
   "cell_type": "code",
   "execution_count": 11,
   "metadata": {},
   "outputs": [],
   "source": [
    "#Random Forest training\n",
    "\n",
    "#drop columns \"teamId\" and \"gameId\"\n",
    "ft100 = team100.drop([\"teamId\", \"gameId\", \"win\"], axis = 1)\n",
    "ft200 = team200.drop([\"teamId\", \"gameId\", \"win\"], axis = 1)\n",
    "\n",
    "#set the labels\n",
    "lb100 = team100.drop([\"firstBlood\", \"firstTower\", \"firstInhibitor\", \"firstBaron\", \"firstDragon\", \"firstRiftHerald\", \"teamId\", \"gameId\"], axis = 1)\n",
    "lb200 = team200.drop([\"firstBlood\", \"firstTower\", \"firstInhibitor\", \"firstBaron\", \"firstDragon\", \"firstRiftHerald\", \"teamId\", \"gameId\"], axis = 1)"
   ]
  },
  {
   "cell_type": "code",
   "execution_count": 12,
   "metadata": {},
   "outputs": [],
   "source": [
    "#splitting test and train sets of features\n",
    "train100, test100, trainlb100, testlb100 = train_test_split(ft100, lb100, test_size = 0.33)\n",
    "train200, test200, trainlb200, testlb200 = train_test_split(ft200, lb200, test_size = 0.33)"
   ]
  },
  {
   "cell_type": "code",
   "execution_count": 13,
   "metadata": {},
   "outputs": [],
   "source": [
    "#Gaussian classifier team100\n",
    "gauClas100 = RandomForestClassifier()\n",
    "gauClas100.fit(train100, trainlb100.values.ravel())\n",
    "pred100 = gauClas100.predict(test100)\n"
   ]
  },
  {
   "cell_type": "code",
   "execution_count": 14,
   "metadata": {},
   "outputs": [
    {
     "name": "stdout",
     "output_type": "stream",
     "text": [
      "0.8414824302500418\n"
     ]
    }
   ],
   "source": [
    "#team100 prediction accuracy\n",
    "print(metrics.accuracy_score(testlb100, pred100))\n"
   ]
  },
  {
   "cell_type": "code",
   "execution_count": 15,
   "metadata": {},
   "outputs": [],
   "source": [
    "#Gaussian classifier team100\n",
    "gauClas200 = RandomForestClassifier()\n",
    "gauClas200.fit(train200, trainlb200.values.ravel())\n",
    "pred200 = gauClas200.predict(test200)\n"
   ]
  },
  {
   "cell_type": "code",
   "execution_count": 16,
   "metadata": {},
   "outputs": [
    {
     "name": "stdout",
     "output_type": "stream",
     "text": [
      "0.8429024892799465\n"
     ]
    }
   ],
   "source": [
    "#team200 prediction accuracy\n",
    "print(metrics.accuracy_score(testlb200, pred200))\n"
   ]
  },
  {
   "cell_type": "code",
   "execution_count": 17,
   "metadata": {},
   "outputs": [
    {
     "data": {
      "text/plain": [
       "<AxesSubplot:>"
      ]
     },
     "execution_count": 17,
     "metadata": {},
     "output_type": "execute_result"
    },
    {
     "data": {
      "image/png": "[encoded data removed]",
      "text/plain": [
       "<Figure size 432x288 with 1 Axes>"
      ]
     },
     "metadata": {
      "needs_background": "light"
     },
     "output_type": "display_data"
    }
   ],
   "source": [
    "#feature importance scoring\n",
    "names = [\"firstBlood\", \"firstTower\", \"firstInhibitor\", \"firstBaron\", \"firstDragon\", \"firstRiftHerald\"]\n",
    "feature_score = pd.Series(gauClas100.feature_importances_, index = names).sort_values(ascending = False)\n",
    "\n",
    "sns.barplot(x=feature_score, y=feature_score.index)"
   ]
  },
  {
   "cell_type": "code",
   "execution_count": 18,
   "metadata": {},
   "outputs": [
    {
     "name": "stdout",
     "output_type": "stream",
     "text": [
      "0.7309405802751017\n"
     ]
    }
   ],
   "source": [
    "#team100 without inhibitor\n",
    "ft100x = team100.drop([\"teamId\", \"gameId\", \"win\", \"firstInhibitor\", \"firstBaron\"], axis = 1)\n",
    "lb100x = team100.drop([\"firstBlood\", \"firstTower\", \"firstInhibitor\", \"firstBaron\", \"firstDragon\", \"firstRiftHerald\", \"teamId\", \"gameId\"], axis = 1)\n",
    "\n",
    "ft100tr, ft100ts, lb100tr, lb100ts = train_test_split(ft100x, lb100x, test_size = 0.33)\n",
    "\n",
    "gauClas100x = RandomForestClassifier()\n",
    "gauClas100x.fit(ft100tr, lb100tr.values.ravel())\n",
    "pred100x = gauClas100x.predict(ft100ts)\n",
    "\n",
    "print(metrics.accuracy_score(lb100ts, pred100x))"
   ]
  },
  {
   "cell_type": "code",
   "execution_count": 19,
   "metadata": {},
   "outputs": [
    {
     "data": {
      "text/plain": [
       "0.731608843347998"
      ]
     },
     "execution_count": 19,
     "metadata": {},
     "output_type": "execute_result"
    }
   ],
   "source": [
    "#team200 withput inhibitor\n",
    "ft200x = team200.drop([\"teamId\", \"gameId\", \"win\", \"firstInhibitor\", \"firstBaron\"], axis = 1)\n",
    "lb200x = team200.drop([\"firstBlood\", \"firstTower\", \"firstInhibitor\", \"firstBaron\", \"firstDragon\", \"firstRiftHerald\", \"teamId\", \"gameId\"], axis = 1)\n",
    "\n",
    "ft200tr, ft200ts, lb200tr, lb200ts = train_test_split(ft200x, lb200x, test_size = 0.33)\n",
    "\n",
    "gauClas200x = RandomForestClassifier()\n",
    "gauClas200x.fit(ft200tr, lb200tr.values.ravel())\n",
    "pred200x = gauClas100x.predict(ft200ts)\n",
    "\n",
    "Random_Forest_Acc = metrics.accuracy_score(lb200ts, pred200x)\n",
    "Random_Forest_Acc"
   ]
  },
  {
   "cell_type": "code",
   "execution_count": 20,
   "metadata": {},
   "outputs": [
    {
     "data": {
      "text/plain": [
       "array(['Fail'], dtype=object)"
      ]
     },
     "execution_count": 20,
     "metadata": {},
     "output_type": "execute_result"
    }
   ],
   "source": [
    "#list blood, tower, dragon, herald\n",
    "gauClas100x.predict([[False, False, False, False]])"
   ]
  },
  {
   "cell_type": "code",
   "execution_count": 21,
   "metadata": {},
   "outputs": [
    {
     "data": {
      "text/plain": [
       "array(['Fail'], dtype=object)"
      ]
     },
     "execution_count": 21,
     "metadata": {},
     "output_type": "execute_result"
    }
   ],
   "source": [
    "#firstBlood\tfirstTower\tfirstInhibitor\tfirstBaron\tfirstDragon\tfirstRiftHerald\n",
    "gauClas100.predict([[False, True, False, True, False, True]])"
   ]
  },
  {
   "cell_type": "code",
   "execution_count": 22,
   "metadata": {},
   "outputs": [
    {
     "data": {
      "text/plain": [
       "<AxesSubplot:>"
      ]
     },
     "execution_count": 22,
     "metadata": {},
     "output_type": "execute_result"
    },
    {
     "data": {
      "image/png": "[encoded data removed]",
      "text/plain": [
       "<Figure size 432x288 with 1 Axes>"
      ]
     },
     "metadata": {
      "needs_background": "light"
     },
     "output_type": "display_data"
    }
   ],
   "source": [
    "#feature importance scoring\n",
    "namesx = [\"firstBlood\", \"firstTower\", \"firstDragon\", \"firstRiftHerald\"]\n",
    "feature_scorex = pd.Series(gauClas100x.feature_importances_, index = namesx).sort_values(ascending = False)\n",
    "\n",
    "sns.barplot(x=feature_scorex, y=feature_scorex.index)"
   ]
  },
  {
   "cell_type": "code",
   "execution_count": 23,
   "metadata": {},
   "outputs": [
    {
     "data": {
      "text/plain": [
       "LogisticRegression(random_state=0, solver='liblinear')"
      ]
     },
     "execution_count": 23,
     "metadata": {},
     "output_type": "execute_result"
    }
   ],
   "source": [
    "#Logistic Regression\n",
    "\n",
    "#pre-process data\n",
    "frame = [dfw100, dfl100]\n",
    "teamLR = pd.concat(frame)\n",
    "\n",
    "featureLR = teamLR.drop([\"teamId\", \"gameId\", \"win\", \"firstInhibitor\", \"firstBaron\"], axis = 1)\n",
    "labelLR = teamLR.drop([\"firstBlood\", \"firstTower\", \"firstInhibitor\", \"firstBaron\", \"firstDragon\", \"firstRiftHerald\", \"teamId\", \"gameId\"], axis = 1)\n",
    "labelLR = labelLR.values.ravel()\n",
    "\n",
    "ft_trLR, ft_tsLR, lb_trLR, lb_tsLR = train_test_split(featureLR, labelLR, test_size = 0.33, random_state = 42)\n",
    "\n",
    "#fit the model\n",
    "logReg = LogisticRegression(solver = \"liblinear\", random_state = 0)\n",
    "logReg.fit(ft_trLR, lb_trLR)"
   ]
  },
  {
   "cell_type": "code",
   "execution_count": 24,
   "metadata": {},
   "outputs": [],
   "source": [
    "logReg = LogisticRegression(solver = \"liblinear\", random_state = 0).fit(ft_trLR, lb_trLR)"
   ]
  },
  {
   "cell_type": "code",
   "execution_count": 25,
   "metadata": {},
   "outputs": [
    {
     "data": {
      "text/plain": [
       "array(['Fail', 'Win'], dtype=object)"
      ]
     },
     "execution_count": 25,
     "metadata": {},
     "output_type": "execute_result"
    }
   ],
   "source": [
    "logReg.classes_"
   ]
  },
  {
   "cell_type": "code",
   "execution_count": 26,
   "metadata": {},
   "outputs": [
    {
     "data": {
      "text/plain": [
       "array([[0.23987286, 0.76012714],\n",
       "       [0.81065203, 0.18934797],\n",
       "       [0.23987286, 0.76012714],\n",
       "       ...,\n",
       "       [0.16190729, 0.83809271],\n",
       "       [0.44096547, 0.55903453],\n",
       "       [0.32563972, 0.67436028]])"
      ]
     },
     "execution_count": 26,
     "metadata": {},
     "output_type": "execute_result"
    }
   ],
   "source": [
    "#probability of prediction\n",
    "LR_prob = logReg.predict_proba(ft_tsLR)\n",
    "LR_prob"
   ]
  },
  {
   "cell_type": "code",
   "execution_count": 27,
   "metadata": {},
   "outputs": [
    {
     "data": {
      "text/plain": [
       "array(['Win', 'Fail', 'Win', ..., 'Win', 'Win', 'Win'], dtype=object)"
      ]
     },
     "execution_count": 27,
     "metadata": {},
     "output_type": "execute_result"
    }
   ],
   "source": [
    "#decision prediction\n",
    "LR_pred = logReg.predict(ft_tsLR)\n",
    "LR_pred"
   ]
  },
  {
   "cell_type": "code",
   "execution_count": 28,
   "metadata": {},
   "outputs": [
    {
     "data": {
      "text/plain": [
       "0.7295483655399009"
      ]
     },
     "execution_count": 28,
     "metadata": {},
     "output_type": "execute_result"
    }
   ],
   "source": [
    "Logistic_Regression_Acc = metrics.accuracy_score(lb_tsLR, LR_pred)\n",
    "Logistic_Regression_Acc"
   ]
  },
  {
   "cell_type": "code",
   "execution_count": 29,
   "metadata": {},
   "outputs": [
    {
     "data": {
      "image/png": "[encoded data removed]",
      "text/plain": [
       "<Figure size 432x432 with 1 Axes>"
      ]
     },
     "metadata": {
      "needs_background": "light"
     },
     "output_type": "display_data"
    }
   ],
   "source": [
    "cm = confusion_matrix(lb_tsLR, LR_pred)\n",
    "fig, ax = plt.subplots(figsize = (6, 6))\n",
    "ax.imshow(cm)\n",
    "ax.grid(False)\n",
    "ax.xaxis.set(ticks = (0,1), ticklabels = (\"\", \"\"))\n",
    "ax.yaxis.set(ticks = (0,1), ticklabels = (\"\", \"\"))\n",
    "ax.set_ylim(1.5, -0.5)\n",
    "for i in range(2):\n",
    "    for j in range(2):\n",
    "        ax.text(j, i, cm[i, j], ha = \"center\", va = \"center\", color = \"black\")\n",
    "plt.show()"
   ]
  },
  {
   "cell_type": "code",
   "execution_count": 30,
   "metadata": {},
   "outputs": [
    {
     "name": "stdout",
     "output_type": "stream",
     "text": [
      "              precision    recall  f1-score   support\n",
      "\n",
      "        Fail       0.74      0.72      0.73     17998\n",
      "         Win       0.72      0.74      0.73     17916\n",
      "\n",
      "    accuracy                           0.73     35914\n",
      "   macro avg       0.73      0.73      0.73     35914\n",
      "weighted avg       0.73      0.73      0.73     35914\n",
      "\n"
     ]
    }
   ],
   "source": [
    "print(classification_report(lb_tsLR, LR_pred))"
   ]
  },
  {
   "cell_type": "code",
   "execution_count": 31,
   "metadata": {},
   "outputs": [],
   "source": [
    "#Support Vector Machine\n",
    "\n",
    "#pre-processing copying data from LR\n",
    "ftrSVM = ft_trLR\n",
    "ftsSVM = ft_tsLR\n",
    "ltrSVM = lb_trLR\n",
    "ltsSVM = lb_tsLR\n",
    "\n",
    "#fitting\n",
    "svmClas = svm.SVC(kernel = \"linear\")\n",
    "\n",
    "svmClas.fit(ftrSVM, ltrSVM)\n",
    "\n",
    "svmPred = svmClas.predict(ftsSVM)"
   ]
  },
  {
   "cell_type": "code",
   "execution_count": 32,
   "metadata": {},
   "outputs": [
    {
     "data": {
      "text/plain": [
       "0.7295483655399009"
      ]
     },
     "execution_count": 32,
     "metadata": {},
     "output_type": "execute_result"
    }
   ],
   "source": [
    "#calculate its accuracy\n",
    "Support_Vector_Machine_Acc = metrics.accuracy_score(ltsSVM, svmPred)\n",
    "Support_Vector_Machine_Acc"
   ]
  },
  {
   "cell_type": "code",
   "execution_count": 33,
   "metadata": {},
   "outputs": [
    {
     "name": "stdout",
     "output_type": "stream",
     "text": [
      "              precision    recall  f1-score   support\n",
      "\n",
      "        Fail       0.74      0.72      0.73     17998\n",
      "         Win       0.72      0.74      0.73     17916\n",
      "\n",
      "    accuracy                           0.73     35914\n",
      "   macro avg       0.73      0.73      0.73     35914\n",
      "weighted avg       0.73      0.73      0.73     35914\n",
      "\n"
     ]
    }
   ],
   "source": [
    "print(classification_report(ltsSVM, svmPred))"
   ]
  },
  {
   "cell_type": "code",
   "execution_count": 34,
   "metadata": {},
   "outputs": [],
   "source": [
    "#Naive Bayes\n",
    "\n",
    "\n",
    "#copying training and testing data from previous models\n",
    "ftrNB = ft_trLR\n",
    "ftsNB = ft_tsLR\n",
    "ltrNB = lb_trLR\n",
    "ltsNB = lb_tsLR"
   ]
  },
  {
   "cell_type": "code",
   "execution_count": 35,
   "metadata": {},
   "outputs": [
    {
     "data": {
      "text/plain": [
       "0.7231441777579773"
      ]
     },
     "execution_count": 35,
     "metadata": {},
     "output_type": "execute_result"
    }
   ],
   "source": [
    "#Fitting the model\n",
    "NB = GaussianNB()\n",
    "NB.fit(ftrNB, ltrNB)\n",
    "\n",
    "nbPred = NB.predict(ftsNB)\n",
    "\n",
    "Naive_Bayes_Acc = metrics.accuracy_score(ltsNB, nbPred)\n",
    "Naive_Bayes_Acc"
   ]
  },
  {
   "cell_type": "code",
   "execution_count": 36,
   "metadata": {},
   "outputs": [
    {
     "name": "stdout",
     "output_type": "stream",
     "text": [
      "              precision    recall  f1-score   support\n",
      "\n",
      "        Fail       0.72      0.74      0.73     17998\n",
      "         Win       0.73      0.71      0.72     17916\n",
      "\n",
      "    accuracy                           0.72     35914\n",
      "   macro avg       0.72      0.72      0.72     35914\n",
      "weighted avg       0.72      0.72      0.72     35914\n",
      "\n"
     ]
    }
   ],
   "source": [
    "print(classification_report(ltsNB, nbPred))"
   ]
  },
  {
   "cell_type": "code",
   "execution_count": 37,
   "metadata": {},
   "outputs": [],
   "source": [
    "#KNN\n",
    "#copying training and testing data from previous models\n",
    "ftrKNN = ft_trLR\n",
    "ftsKNN = ft_tsLR\n",
    "ltrKNN = lb_trLR\n",
    "ltsKNN = lb_tsLR"
   ]
  },
  {
   "cell_type": "code",
   "execution_count": 38,
   "metadata": {},
   "outputs": [
    {
     "data": {
      "text/plain": [
       "Text(0.5, 1.0, 'Elbow Method')"
      ]
     },
     "execution_count": 38,
     "metadata": {},
     "output_type": "execute_result"
    },
    {
     "data": {
      "image/png": "[encoded data removed]",
      "text/plain": [
       "<Figure size 1152x576 with 1 Axes>"
      ]
     },
     "metadata": {
      "needs_background": "light"
     },
     "output_type": "display_data"
    }
   ],
   "source": [
    "#find the K with elbow method\n",
    "\n",
    "kmeanDF = team100.drop([\"win\"], axis = 1)\n",
    "\n",
    "dist = []\n",
    "K = range(1, 10)\n",
    "for k in K:\n",
    "    kmeanModel = KMeans(n_clusters = k)\n",
    "    kmeanModel.fit(kmeanDF)\n",
    "    dist.append(kmeanModel.inertia_)\n",
    "\n",
    "plt.figure(figsize = (16, 8))\n",
    "plt.plot(K, dist, \"bx-\")\n",
    "plt.xlabel(\"k\")\n",
    "plt.ylabel(\"Distortion\")\n",
    "plt.title(\"Elbow Method\")"
   ]
  },
  {
   "cell_type": "code",
   "execution_count": 39,
   "metadata": {},
   "outputs": [
    {
     "data": {
      "text/plain": [
       "0.7155426853037813"
      ]
     },
     "execution_count": 39,
     "metadata": {},
     "output_type": "execute_result"
    }
   ],
   "source": [
    "#fit the model\n",
    "\n",
    "knn = KNeighborsClassifier(n_neighbors = 5)\n",
    "knn.fit(ftrKNN, ltrKNN)\n",
    "\n",
    "knnPred = knn.predict(ftsKNN)\n",
    "\n",
    "K_Nearest_Neighbors_Acc = metrics.accuracy_score(ltsKNN, knnPred)\n",
    "K_Nearest_Neighbors_Acc"
   ]
  },
  {
   "cell_type": "code",
   "execution_count": 40,
   "metadata": {},
   "outputs": [
    {
     "name": "stdout",
     "output_type": "stream",
     "text": [
      "              precision    recall  f1-score   support\n",
      "\n",
      "        Fail       0.73      0.69      0.71     17998\n",
      "         Win       0.70      0.74      0.72     17916\n",
      "\n",
      "    accuracy                           0.72     35914\n",
      "   macro avg       0.72      0.72      0.72     35914\n",
      "weighted avg       0.72      0.72      0.72     35914\n",
      "\n"
     ]
    }
   ],
   "source": [
    "print(classification_report(ltsKNN, knnPred))"
   ]
  },
  {
   "cell_type": "code",
   "execution_count": 41,
   "metadata": {},
   "outputs": [
    {
     "data": {
      "text/plain": [
       "0.7231441777579773"
      ]
     },
     "execution_count": 41,
     "metadata": {},
     "output_type": "execute_result"
    }
   ],
   "source": [
    "#change the K\n",
    "knnX = KNeighborsClassifier(n_neighbors = 7)\n",
    "knnX.fit(ftrKNN, ltrKNN)\n",
    "\n",
    "knnPredX = knnX.predict(ftsKNN)\n",
    "K_Nearest_NeighborsX_Acc = metrics.accuracy_score(ltsKNN, knnPredX)\n",
    "K_Nearest_NeighborsX_Acc"
   ]
  },
  {
   "cell_type": "code",
   "execution_count": 42,
   "metadata": {},
   "outputs": [
    {
     "name": "stdout",
     "output_type": "stream",
     "text": [
      "              precision    recall  f1-score   support\n",
      "\n",
      "        Fail       0.72      0.74      0.73     17998\n",
      "         Win       0.73      0.71      0.72     17916\n",
      "\n",
      "    accuracy                           0.72     35914\n",
      "   macro avg       0.72      0.72      0.72     35914\n",
      "weighted avg       0.72      0.72      0.72     35914\n",
      "\n"
     ]
    }
   ],
   "source": [
    "print(classification_report(ltsKNN, knnPredX))"
   ]
  },
  {
   "cell_type": "code",
   "execution_count": 43,
   "metadata": {},
   "outputs": [
    {
     "name": "stdout",
     "output_type": "stream",
     "text": [
      "73.16% 72.95% 72.95% 72.31% 71.55%\n"
     ]
    }
   ],
   "source": [
    "#Overview of the 5 ML techniques\n",
    "\n",
    "RF = \"{:.2f}\".format(Random_Forest_Acc*100)+\"%\"\n",
    "LR = \"{:.2f}\".format(Logistic_Regression_Acc*100)+\"%\"\n",
    "SVM = \"{:.2f}\".format(Support_Vector_Machine_Acc*100)+\"%\"\n",
    "NB = \"{:.2f}\".format(Naive_Bayes_Acc*100)+\"%\"\n",
    "KNN = \"{:.2f}\".format(K_Nearest_Neighbors_Acc*100)+\"%\"\n",
    "\n",
    "print(RF, LR, SVM, NB, KNN)"
   ]
  },
  {
   "cell_type": "code",
   "execution_count": null,
   "metadata": {},
   "outputs": [],
   "source": []
  },
  {
   "cell_type": "code",
   "execution_count": null,
   "metadata": {},
   "outputs": [],
   "source": []
  }
 ],
 "metadata": {
  "kernelspec": {
   "display_name": "Python 3",
   "language": "python",
   "name": "python3"
  },
  "language_info": {
   "codemirror_mode": {
    "name": "ipython",
    "version": 3
   },
   "file_extension": ".py",
   "mimetype": "text/x-python",
   "name": "python",
   "nbconvert_exporter": "python",
   "pygments_lexer": "ipython3",
   "version": "3.8.5"
  }
 },
 "nbformat": 4,
 "nbformat_minor": 4
}
