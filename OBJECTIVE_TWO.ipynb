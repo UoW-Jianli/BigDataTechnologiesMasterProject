{
 "cells": [
  {
   "cell_type": "code",
   "execution_count": 1,
   "metadata": {},
   "outputs": [],
   "source": [
    "import numpy as np\n",
    "import pandas as pd\n",
    "import pickle\n",
    "import matplotlib.pyplot as plt\n",
    "import numpy as np\n",
    "import json\n",
    "import re \n",
    "import time\n",
    "from pandas.io.json import json_normalize\n",
    "import seaborn as sns\n",
    "from sklearn.model_selection import train_test_split\n",
    "from sklearn import metrics\n",
    "from sklearn import tree\n",
    "from sklearn.naive_bayes import GaussianNB\n",
    "from sklearn.ensemble import RandomForestClassifier\n",
    "from sklearn.linear_model import LogisticRegression\n",
    "from sklearn.metrics import classification_report, confusion_matrix\n",
    "import xgboost as xgb\n",
    "from xgboost import XGBClassifier\n",
    "from sklearn.metrics import roc_curve\n",
    "from sklearn.metrics import roc_auc_score\n",
    "from sklearn import preprocessing"
   ]
  },
  {
   "cell_type": "code",
   "execution_count": 2,
   "metadata": {},
   "outputs": [],
   "source": [
    "objFt = pd.read_csv(\"C:/Users/Aaron/Desktop/loldfs/OBJECTIVE_TWO_game_objectives.csv\")"
   ]
  },
  {
   "cell_type": "code",
   "execution_count": 3,
   "metadata": {},
   "outputs": [
    {
     "name": "stdout",
     "output_type": "stream",
     "text": [
      "<class 'pandas.core.frame.DataFrame'>\n",
      "RangeIndex: 185846 entries, 0 to 185845\n",
      "Data columns (total 10 columns):\n",
      " #   Column           Non-Null Count   Dtype \n",
      "---  ------           --------------   ----- \n",
      " 0   gameId           185846 non-null  int64 \n",
      " 1   teamId           185846 non-null  int64 \n",
      " 2   win              185846 non-null  object\n",
      " 3   firstBlood       185846 non-null  bool  \n",
      " 4   firstTower       185846 non-null  bool  \n",
      " 5   firstBaron       185846 non-null  bool  \n",
      " 6   firstDragon      185846 non-null  bool  \n",
      " 7   firstRiftHerald  185846 non-null  bool  \n",
      " 8   dragonKills      185846 non-null  int64 \n",
      " 9   riftHeraldKills  185846 non-null  int64 \n",
      "dtypes: bool(5), int64(4), object(1)\n",
      "memory usage: 8.0+ MB\n"
     ]
    },
    {
     "data": {
      "text/html": [
       "<div>\n",
       "<style scoped>\n",
       "    .dataframe tbody tr th:only-of-type {\n",
       "        vertical-align: middle;\n",
       "    }\n",
       "\n",
       "    .dataframe tbody tr th {\n",
       "        vertical-align: top;\n",
       "    }\n",
       "\n",
       "    .dataframe thead th {\n",
       "        text-align: right;\n",
       "    }\n",
       "</style>\n",
       "<table border=\"1\" class=\"dataframe\">\n",
       "  <thead>\n",
       "    <tr style=\"text-align: right;\">\n",
       "      <th></th>\n",
       "      <th>gameId</th>\n",
       "      <th>teamId</th>\n",
       "      <th>win</th>\n",
       "      <th>firstBlood</th>\n",
       "      <th>firstTower</th>\n",
       "      <th>firstBaron</th>\n",
       "      <th>firstDragon</th>\n",
       "      <th>firstRiftHerald</th>\n",
       "      <th>dragonKills</th>\n",
       "      <th>riftHeraldKills</th>\n",
       "    </tr>\n",
       "  </thead>\n",
       "  <tbody>\n",
       "    <tr>\n",
       "      <th>0</th>\n",
       "      <td>4247263043</td>\n",
       "      <td>200</td>\n",
       "      <td>Win</td>\n",
       "      <td>False</td>\n",
       "      <td>True</td>\n",
       "      <td>False</td>\n",
       "      <td>True</td>\n",
       "      <td>True</td>\n",
       "      <td>3</td>\n",
       "      <td>2</td>\n",
       "    </tr>\n",
       "    <tr>\n",
       "      <th>1</th>\n",
       "      <td>4247155821</td>\n",
       "      <td>100</td>\n",
       "      <td>Win</td>\n",
       "      <td>False</td>\n",
       "      <td>False</td>\n",
       "      <td>False</td>\n",
       "      <td>True</td>\n",
       "      <td>True</td>\n",
       "      <td>2</td>\n",
       "      <td>2</td>\n",
       "    </tr>\n",
       "    <tr>\n",
       "      <th>2</th>\n",
       "      <td>4243963257</td>\n",
       "      <td>200</td>\n",
       "      <td>Win</td>\n",
       "      <td>True</td>\n",
       "      <td>True</td>\n",
       "      <td>False</td>\n",
       "      <td>True</td>\n",
       "      <td>True</td>\n",
       "      <td>2</td>\n",
       "      <td>2</td>\n",
       "    </tr>\n",
       "    <tr>\n",
       "      <th>3</th>\n",
       "      <td>4241678498</td>\n",
       "      <td>200</td>\n",
       "      <td>Win</td>\n",
       "      <td>True</td>\n",
       "      <td>True</td>\n",
       "      <td>False</td>\n",
       "      <td>False</td>\n",
       "      <td>True</td>\n",
       "      <td>3</td>\n",
       "      <td>1</td>\n",
       "    </tr>\n",
       "    <tr>\n",
       "      <th>4</th>\n",
       "      <td>4241538868</td>\n",
       "      <td>100</td>\n",
       "      <td>Win</td>\n",
       "      <td>True</td>\n",
       "      <td>True</td>\n",
       "      <td>True</td>\n",
       "      <td>True</td>\n",
       "      <td>True</td>\n",
       "      <td>2</td>\n",
       "      <td>2</td>\n",
       "    </tr>\n",
       "  </tbody>\n",
       "</table>\n",
       "</div>"
      ],
      "text/plain": [
       "       gameId  teamId  win  firstBlood  firstTower  firstBaron  firstDragon  \\\n",
       "0  4247263043     200  Win       False        True       False         True   \n",
       "1  4247155821     100  Win       False       False       False         True   \n",
       "2  4243963257     200  Win        True        True       False         True   \n",
       "3  4241678498     200  Win        True        True       False        False   \n",
       "4  4241538868     100  Win        True        True        True         True   \n",
       "\n",
       "   firstRiftHerald  dragonKills  riftHeraldKills  \n",
       "0             True            3                2  \n",
       "1             True            2                2  \n",
       "2             True            2                2  \n",
       "3             True            3                1  \n",
       "4             True            2                2  "
      ]
     },
     "execution_count": 3,
     "metadata": {},
     "output_type": "execute_result"
    }
   ],
   "source": [
    "objFt.info()\n",
    "objFt.head()"
   ]
  },
  {
   "cell_type": "code",
   "execution_count": 4,
   "metadata": {},
   "outputs": [
    {
     "data": {
      "text/html": [
       "<div>\n",
       "<style scoped>\n",
       "    .dataframe tbody tr th:only-of-type {\n",
       "        vertical-align: middle;\n",
       "    }\n",
       "\n",
       "    .dataframe tbody tr th {\n",
       "        vertical-align: top;\n",
       "    }\n",
       "\n",
       "    .dataframe thead th {\n",
       "        text-align: right;\n",
       "    }\n",
       "</style>\n",
       "<table border=\"1\" class=\"dataframe\">\n",
       "  <thead>\n",
       "    <tr style=\"text-align: right;\">\n",
       "      <th></th>\n",
       "      <th>win</th>\n",
       "      <th>firstBlood</th>\n",
       "      <th>firstTower</th>\n",
       "      <th>firstBaron</th>\n",
       "      <th>firstDragon</th>\n",
       "      <th>firstRiftHerald</th>\n",
       "      <th>dragonKills</th>\n",
       "      <th>riftHeraldKills</th>\n",
       "    </tr>\n",
       "  </thead>\n",
       "  <tbody>\n",
       "    <tr>\n",
       "      <th>0</th>\n",
       "      <td>Win</td>\n",
       "      <td>False</td>\n",
       "      <td>True</td>\n",
       "      <td>False</td>\n",
       "      <td>True</td>\n",
       "      <td>True</td>\n",
       "      <td>3</td>\n",
       "      <td>2</td>\n",
       "    </tr>\n",
       "    <tr>\n",
       "      <th>1</th>\n",
       "      <td>Win</td>\n",
       "      <td>False</td>\n",
       "      <td>False</td>\n",
       "      <td>False</td>\n",
       "      <td>True</td>\n",
       "      <td>True</td>\n",
       "      <td>2</td>\n",
       "      <td>2</td>\n",
       "    </tr>\n",
       "    <tr>\n",
       "      <th>2</th>\n",
       "      <td>Win</td>\n",
       "      <td>True</td>\n",
       "      <td>True</td>\n",
       "      <td>False</td>\n",
       "      <td>True</td>\n",
       "      <td>True</td>\n",
       "      <td>2</td>\n",
       "      <td>2</td>\n",
       "    </tr>\n",
       "    <tr>\n",
       "      <th>3</th>\n",
       "      <td>Win</td>\n",
       "      <td>True</td>\n",
       "      <td>True</td>\n",
       "      <td>False</td>\n",
       "      <td>False</td>\n",
       "      <td>True</td>\n",
       "      <td>3</td>\n",
       "      <td>1</td>\n",
       "    </tr>\n",
       "    <tr>\n",
       "      <th>4</th>\n",
       "      <td>Win</td>\n",
       "      <td>True</td>\n",
       "      <td>True</td>\n",
       "      <td>True</td>\n",
       "      <td>True</td>\n",
       "      <td>True</td>\n",
       "      <td>2</td>\n",
       "      <td>2</td>\n",
       "    </tr>\n",
       "    <tr>\n",
       "      <th>...</th>\n",
       "      <td>...</td>\n",
       "      <td>...</td>\n",
       "      <td>...</td>\n",
       "      <td>...</td>\n",
       "      <td>...</td>\n",
       "      <td>...</td>\n",
       "      <td>...</td>\n",
       "      <td>...</td>\n",
       "    </tr>\n",
       "    <tr>\n",
       "      <th>185841</th>\n",
       "      <td>Fail</td>\n",
       "      <td>False</td>\n",
       "      <td>False</td>\n",
       "      <td>False</td>\n",
       "      <td>False</td>\n",
       "      <td>False</td>\n",
       "      <td>0</td>\n",
       "      <td>0</td>\n",
       "    </tr>\n",
       "    <tr>\n",
       "      <th>185842</th>\n",
       "      <td>Fail</td>\n",
       "      <td>False</td>\n",
       "      <td>True</td>\n",
       "      <td>False</td>\n",
       "      <td>True</td>\n",
       "      <td>False</td>\n",
       "      <td>1</td>\n",
       "      <td>0</td>\n",
       "    </tr>\n",
       "    <tr>\n",
       "      <th>185843</th>\n",
       "      <td>Fail</td>\n",
       "      <td>False</td>\n",
       "      <td>False</td>\n",
       "      <td>False</td>\n",
       "      <td>False</td>\n",
       "      <td>False</td>\n",
       "      <td>0</td>\n",
       "      <td>0</td>\n",
       "    </tr>\n",
       "    <tr>\n",
       "      <th>185844</th>\n",
       "      <td>Fail</td>\n",
       "      <td>False</td>\n",
       "      <td>True</td>\n",
       "      <td>False</td>\n",
       "      <td>True</td>\n",
       "      <td>True</td>\n",
       "      <td>2</td>\n",
       "      <td>2</td>\n",
       "    </tr>\n",
       "    <tr>\n",
       "      <th>185845</th>\n",
       "      <td>Fail</td>\n",
       "      <td>True</td>\n",
       "      <td>True</td>\n",
       "      <td>False</td>\n",
       "      <td>True</td>\n",
       "      <td>True</td>\n",
       "      <td>3</td>\n",
       "      <td>1</td>\n",
       "    </tr>\n",
       "  </tbody>\n",
       "</table>\n",
       "<p>185846 rows × 8 columns</p>\n",
       "</div>"
      ],
      "text/plain": [
       "         win  firstBlood  firstTower  firstBaron  firstDragon  \\\n",
       "0        Win       False        True       False         True   \n",
       "1        Win       False       False       False         True   \n",
       "2        Win        True        True       False         True   \n",
       "3        Win        True        True       False        False   \n",
       "4        Win        True        True        True         True   \n",
       "...      ...         ...         ...         ...          ...   \n",
       "185841  Fail       False       False       False        False   \n",
       "185842  Fail       False        True       False         True   \n",
       "185843  Fail       False       False       False        False   \n",
       "185844  Fail       False        True       False         True   \n",
       "185845  Fail        True        True       False         True   \n",
       "\n",
       "        firstRiftHerald  dragonKills  riftHeraldKills  \n",
       "0                  True            3                2  \n",
       "1                  True            2                2  \n",
       "2                  True            2                2  \n",
       "3                  True            3                1  \n",
       "4                  True            2                2  \n",
       "...                 ...          ...              ...  \n",
       "185841            False            0                0  \n",
       "185842            False            1                0  \n",
       "185843            False            0                0  \n",
       "185844             True            2                2  \n",
       "185845             True            3                1  \n",
       "\n",
       "[185846 rows x 8 columns]"
      ]
     },
     "execution_count": 4,
     "metadata": {},
     "output_type": "execute_result"
    }
   ],
   "source": [
    "df = objFt.drop([\"gameId\", \"teamId\"], axis = 1)\n",
    "df"
   ]
  },
  {
   "cell_type": "code",
   "execution_count": 5,
   "metadata": {},
   "outputs": [],
   "source": [
    "encoder = {\"Win\" : True, \"Fail\" : False}\n",
    "label = df[\"win\"]\n",
    "label = label.replace(encoder)\n",
    "feat = df.drop([\"win\"], axis = 1)\n",
    "\n",
    "ft_train, ft_test, lb_train, lb_test = train_test_split(feat, label, test_size = 0.5, random_state = 42)"
   ]
  },
  {
   "cell_type": "code",
   "execution_count": 6,
   "metadata": {},
   "outputs": [],
   "source": [
    "#\n",
    "#\n",
    "#\n",
    "#\n",
    "#"
   ]
  },
  {
   "cell_type": "code",
   "execution_count": 7,
   "metadata": {},
   "outputs": [
    {
     "name": "stdout",
     "output_type": "stream",
     "text": [
      "0.8165039871721748\n",
      "Training time is 0.2294483184814453 seconds\n"
     ]
    }
   ],
   "source": [
    "#DECISION TREE CLASSIFIER\n",
    "\n",
    "start = time.time()\n",
    "\n",
    "dt = tree.DecisionTreeClassifier()\n",
    "dt.fit(ft_train, lb_train)\n",
    "dtPred = dt.predict(ft_test)\n",
    "\n",
    "end = time.time()\n",
    "\n",
    "DTA = metrics.accuracy_score(lb_test, dtPred)\n",
    "print(DTA)\n",
    "print(f\"Training time is {end - start} seconds\")"
   ]
  },
  {
   "cell_type": "code",
   "execution_count": 8,
   "metadata": {},
   "outputs": [],
   "source": [
    "#\n",
    "#\n",
    "#\n",
    "#\n",
    "#"
   ]
  },
  {
   "cell_type": "code",
   "execution_count": 9,
   "metadata": {},
   "outputs": [
    {
     "name": "stdout",
     "output_type": "stream",
     "text": [
      "0.7965304607040238\n",
      "Training time is 0.09706830978393555 seconds\n"
     ]
    }
   ],
   "source": [
    "#NAIVE BAYES\n",
    "\n",
    "start = time.time()\n",
    "\n",
    "nb = GaussianNB()\n",
    "nb.fit(ft_train, lb_train.values.ravel())\n",
    "nbPred = nb.predict(ft_test)\n",
    "\n",
    "end = time.time()\n",
    "\n",
    "NBA = metrics.accuracy_score(lb_test, nbPred)\n",
    "print(NBA)\n",
    "print(f\"Training time is {end - start} seconds\")"
   ]
  },
  {
   "cell_type": "code",
   "execution_count": 10,
   "metadata": {},
   "outputs": [],
   "source": [
    "#\n",
    "#\n",
    "#\n",
    "#\n",
    "#"
   ]
  },
  {
   "cell_type": "code",
   "execution_count": 11,
   "metadata": {},
   "outputs": [
    {
     "name": "stdout",
     "output_type": "stream",
     "text": [
      "0.8172465374557429\n",
      "Training time is 3.604397773742676 seconds\n"
     ]
    }
   ],
   "source": [
    "#RANDOM FOREST CLASSIFIER\n",
    "\n",
    "start = time.time()\n",
    "\n",
    "rf = RandomForestClassifier()\n",
    "rf.fit(ft_train, lb_train.values.ravel())\n",
    "rfPred = rf.predict(ft_test)\n",
    "\n",
    "end = time.time()\n",
    "\n",
    "RFA = metrics.accuracy_score(lb_test, rfPred)\n",
    "print(RFA)\n",
    "print(f\"Training time is {end - start} seconds\")"
   ]
  },
  {
   "cell_type": "code",
   "execution_count": 31,
   "metadata": {},
   "outputs": [
    {
     "data": {
      "text/plain": [
       "Text(0.5, 1.0, 'Feature Importance - Random Forest')"
      ]
     },
     "execution_count": 31,
     "metadata": {},
     "output_type": "execute_result"
    },
    {
     "data": {
      "image/png": "[encoded data removed]",
      "text/plain": [
       "<Figure size 576x504 with 1 Axes>"
      ]
     },
     "metadata": {
      "needs_background": "light"
     },
     "output_type": "display_data"
    }
   ],
   "source": [
    "#feature importance\n",
    "featNames = [\"firstBlood\", \"firstTower\", \"firstBaron\", \"firstDragon\",\n",
    "             \"firstRiftHerald\", \"dragonKills\", \"riftHeraldKills\"]\n",
    "feature_score = pd.Series(rf.feature_importances_, index = featNames).sort_values(ascending = False)\n",
    "\n",
    "fig_dims = (8, 7)\n",
    "fig, ax = plt.subplots(figsize = fig_dims)\n",
    "sns.barplot(x = feature_score, y = feature_score.index, ax = ax)\n",
    "ax.set_title(\"Feature Importance - Random Forest\")"
   ]
  },
  {
   "cell_type": "code",
   "execution_count": 13,
   "metadata": {},
   "outputs": [],
   "source": [
    "#\n",
    "#\n",
    "#\n",
    "#\n",
    "#"
   ]
  },
  {
   "cell_type": "code",
   "execution_count": 14,
   "metadata": {},
   "outputs": [
    {
     "name": "stdout",
     "output_type": "stream",
     "text": [
      "0.8172465374557429\n",
      "Training time is 0.26567721366882324 seconds\n"
     ]
    }
   ],
   "source": [
    "#LOGISTIC REGRESSION\n",
    "\n",
    "start = time.time()\n",
    "\n",
    "logReg = LogisticRegression(solver = \"liblinear\")\n",
    "logReg.fit(ft_train, lb_train.values.ravel())\n",
    "lrPred = logReg.predict(ft_test)\n",
    "\n",
    "end = time.time()\n",
    "\n",
    "LRA = metrics.accuracy_score(lb_test, rfPred)\n",
    "print(LRA)\n",
    "print(f\"Training time is {end - start} seconds\")"
   ]
  },
  {
   "cell_type": "code",
   "execution_count": 15,
   "metadata": {},
   "outputs": [
    {
     "data": {
      "text/plain": [
       "Text(0.5, 257.44, 'Predicted label')"
      ]
     },
     "execution_count": 15,
     "metadata": {},
     "output_type": "execute_result"
    },
    {
     "data": {
      "image/png": "[encoded data removed]",
      "text/plain": [
       "<Figure size 432x288 with 2 Axes>"
      ]
     },
     "metadata": {
      "needs_background": "light"
     },
     "output_type": "display_data"
    }
   ],
   "source": [
    "#confusion matrix\n",
    "cnf_matrix = metrics.confusion_matrix(lb_test, lrPred)\n",
    "cnf_matrix\n",
    "\n",
    "class_names = [0, 1]\n",
    "fig, ax = plt.subplots()\n",
    "tick_marks = np.arange(len(class_names))\n",
    "plt.xticks(tick_marks, class_names)\n",
    "plt.yticks(tick_marks, class_names)\n",
    "\n",
    "sns.heatmap(pd.DataFrame(cnf_matrix), annot=True, cmap=\"YlGnBu\" ,fmt='g')\n",
    "ax.xaxis.set_label_position(\"top\")\n",
    "plt.tight_layout()\n",
    "plt.title('Confusion matrix', y=1.1)\n",
    "plt.ylabel('Actual label')\n",
    "plt.xlabel('Predicted label')"
   ]
  },
  {
   "cell_type": "code",
   "execution_count": 16,
   "metadata": {},
   "outputs": [],
   "source": [
    "#\n",
    "#\n",
    "#\n",
    "#\n",
    "#"
   ]
  },
  {
   "cell_type": "code",
   "execution_count": 17,
   "metadata": {},
   "outputs": [
    {
     "name": "stdout",
     "output_type": "stream",
     "text": [
      "0.8171604446692423\n",
      "Training time is 2.0953962802886963 seconds\n"
     ]
    }
   ],
   "source": [
    "#EXTREME GRADIENT BOOST\n",
    "start = time.time()\n",
    "\n",
    "xgbc = XGBClassifier(use_label_encoder = False, eval_metric = 'mlogloss')\n",
    "xgbc.fit(ft_train, lb_train.values.ravel())\n",
    "xgbcPred = xgbc.predict(ft_test)\n",
    "\n",
    "end = time.time()\n",
    "\n",
    "XGBA = metrics.accuracy_score(lb_test, xgbcPred)\n",
    "print(XGBA)\n",
    "print(f\"Training time is {end - start} seconds\")"
   ]
  },
  {
   "cell_type": "code",
   "execution_count": 32,
   "metadata": {},
   "outputs": [
    {
     "data": {
      "text/plain": [
       "Text(0.5, 1.0, 'Feature Importance - Extreme Gradient Boost')"
      ]
     },
     "execution_count": 32,
     "metadata": {},
     "output_type": "execute_result"
    },
    {
     "data": {
      "image/png": "[encoded data removed]",
      "text/plain": [
       "<Figure size 576x504 with 1 Axes>"
      ]
     },
     "metadata": {
      "needs_background": "light"
     },
     "output_type": "display_data"
    }
   ],
   "source": [
    "#XGB feature importance\n",
    "feature_score = pd.Series(xgbc.feature_importances_, index = featNames).sort_values(ascending = False)\n",
    "\n",
    "fig_dims = (8, 7)\n",
    "fig, ax = plt.subplots(figsize = fig_dims)\n",
    "sns.barplot(x = feature_score, y = feature_score.index, ax = ax)\n",
    "ax.set_title(\"Feature Importance - Extreme Gradient Boost\")"
   ]
  },
  {
   "cell_type": "code",
   "execution_count": 21,
   "metadata": {},
   "outputs": [],
   "source": [
    "#\n",
    "#\n",
    "#\n",
    "#\n",
    "#"
   ]
  },
  {
   "cell_type": "code",
   "execution_count": 22,
   "metadata": {},
   "outputs": [
    {
     "name": "stdout",
     "output_type": "stream",
     "text": [
      "81.65% 79.65% 81.72% 81.72% 81.72%\n"
     ]
    }
   ],
   "source": [
    "#ACCURACY OVERVIEW\n",
    "DT = \"{:.2f}\".format(DTA*100)+\"%\"\n",
    "NB = \"{:.2f}\".format(NBA*100)+\"%\"\n",
    "RF = \"{:.2f}\".format(RFA*100)+\"%\"\n",
    "LR = \"{:.2f}\".format(LRA*100)+\"%\"\n",
    "XGB = \"{:.2f}\".format(XGBA*100)+\"%\"\n",
    "print(DT, NB, RF, LR, XGB)"
   ]
  },
  {
   "cell_type": "code",
   "execution_count": 30,
   "metadata": {},
   "outputs": [],
   "source": [
    "#\n",
    "#\n",
    "#\n",
    "#\n",
    "#"
   ]
  },
  {
   "cell_type": "code",
   "execution_count": 26,
   "metadata": {},
   "outputs": [
    {
     "name": "stdout",
     "output_type": "stream",
     "text": [
      "Decision Tree: ROC AUC = 0.888\n",
      "Naive Bayes: ROC AUC = 0.867\n",
      "Random Forest: ROC AUC = 0.888\n",
      "Logistic Regression: ROC AUC = 0.877\n",
      "Extreme Gradient Boost: ROC AUC = 0.888\n"
     ]
    },
    {
     "data": {
      "image/png": "[encoded data removed]",
      "text/plain": [
       "<Figure size 864x864 with 1 Axes>"
      ]
     },
     "metadata": {
      "needs_background": "light"
     },
     "output_type": "display_data"
    }
   ],
   "source": [
    "#ROC CURVES PLOT\n",
    "\n",
    "#plot the no skill line\n",
    "nsProbs = [0 for _ in range(len(lb_test))]\n",
    "nsAuc = roc_auc_score(lb_test, nsProbs)\n",
    "ns_fpr, ns_tpr, _ = roc_curve(lb_test, nsProbs)\n",
    "\n",
    "#Decision Tree\n",
    "dtProb = dt.predict_proba(ft_test)\n",
    "dtProb = dtProb[:, 1]\n",
    "dtAuc = roc_auc_score(lb_test, dtProb)\n",
    "print(\"Decision Tree: ROC AUC = %.3f\" % (dtAuc))\n",
    "dt_fpr, dt_tpr, _ = roc_curve(lb_test, dtProb)\n",
    "\n",
    "#Naive Bayes\n",
    "nbProb = nb.predict_proba(ft_test)\n",
    "nbProb = nbProb[:, 1]\n",
    "nbAuc = roc_auc_score(lb_test, nbProb)\n",
    "print(\"Naive Bayes: ROC AUC = %.3f\" % (nbAuc))\n",
    "nb_fpr, nb_tpr, _ = roc_curve(lb_test, nbProb)\n",
    "\n",
    "#Random Forest\n",
    "rfProb = rf.predict_proba(ft_test)\n",
    "rfProb = rfProb[:, 1]\n",
    "rfAuc = roc_auc_score(lb_test, rfProb)\n",
    "print(\"Random Forest: ROC AUC = %.3f\" % (rfAuc))\n",
    "rf_fpr, rf_tpr, _ = roc_curve(lb_test, rfProb)\n",
    "\n",
    "#Logistic Regression\n",
    "lrProb = logReg.predict_proba(ft_test)\n",
    "lrProb = lrProb[:, 1]\n",
    "lrAuc = roc_auc_score(lb_test, lrProb)\n",
    "print(\"Logistic Regression: ROC AUC = %.3f\" % (lrAuc))\n",
    "lr_fpr, lr_tpr, _ = roc_curve(lb_test, lrProb)\n",
    "\n",
    "#Extreme Gradient Boost\n",
    "xgbcProb = xgbc.predict_proba(ft_test)\n",
    "xgbcProb = xgbcProb[:, 1]\n",
    "xgbcAuc = roc_auc_score(lb_test, xgbcProb)\n",
    "print(\"Extreme Gradient Boost: ROC AUC = %.3f\" % (xgbcAuc))\n",
    "xgbc_fpr, xgbc_tpr, _ = roc_curve(lb_test, xgbcProb)\n",
    "\n",
    "plt.figure(figsize = (12, 12))\n",
    "\n",
    "plt.plot(ns_fpr, ns_tpr, linestyle = \"--\", label = 'No Skill')\n",
    "plt.plot(dt_fpr, dt_tpr, marker = \".\", label = \"Decision Tree\")\n",
    "plt.plot(nb_fpr, nb_tpr, marker = \".\", label = \"Naive Bayes\")\n",
    "plt.plot(rf_fpr, rf_tpr, marker = \".\", label = \"Random Forest\")\n",
    "plt.plot(lr_fpr, lr_tpr, marker = \".\", label = \"Logistic Regression\")\n",
    "plt.plot(xgbc_fpr, xgbc_tpr, marker = \".\", label = \"Extreme Gradient Boost\")\n",
    "\n",
    "plt.xlabel(\"False Positive Rate\")\n",
    "plt.ylabel(\"True Positive Rate\")\n",
    "plt.legend()\n",
    "plt.show()"
   ]
  },
  {
   "cell_type": "code",
   "execution_count": null,
   "metadata": {},
   "outputs": [],
   "source": []
  }
 ],
 "metadata": {
  "kernelspec": {
   "display_name": "Python 3",
   "language": "python",
   "name": "python3"
  },
  "language_info": {
   "codemirror_mode": {
    "name": "ipython",
    "version": 3
   },
   "file_extension": ".py",
   "mimetype": "text/x-python",
   "name": "python",
   "nbconvert_exporter": "python",
   "pygments_lexer": "ipython3",
   "version": "3.8.5"
  }
 },
 "nbformat": 4,
 "nbformat_minor": 4
}
